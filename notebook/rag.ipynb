{
 "cells": [
  {
   "cell_type": "code",
   "execution_count": 109,
   "id": "6daa4925",
   "metadata": {},
   "outputs": [],
   "source": [
    "import json\n",
    "import os\n",
    "import pickle"
   ]
  },
  {
   "cell_type": "code",
   "execution_count": 111,
   "id": "1e125eef",
   "metadata": {},
   "outputs": [],
   "source": [
    "with open(os.path.join('/home/yagor/Рабочий стол/gagrin/sentiment_ru_stocks/data/', 'saved_words.pkl'), 'rb') as f:\n",
    "    loaded_id_to_names = pickle.load(f)"
   ]
  },
  {
   "cell_type": "code",
   "execution_count": 159,
   "id": "e1d4caf7",
   "metadata": {},
   "outputs": [],
   "source": [
    "company = ['pervaya', 'abrau', 'aragon', 'glavnayadoroga', 'gmk', 'mail', 'propertiz', 'micex', 'magisrtal', 'x5']"
   ]
  },
  {
   "cell_type": "code",
   "execution_count": 160,
   "id": "2a1e3ebd",
   "metadata": {},
   "outputs": [],
   "source": [
    "d = {i: [] for i in company}"
   ]
  },
  {
   "cell_type": "code",
   "execution_count": 161,
   "id": "83c0dfde",
   "metadata": {},
   "outputs": [],
   "source": [
    "d['mail'].extend(['вконтакте', 'мэйл.ру', 'mail.ru', 'vkco', 'mail', 'vk'])"
   ]
  },
  {
   "cell_type": "code",
   "execution_count": 162,
   "id": "a17656c5",
   "metadata": {},
   "outputs": [],
   "source": [
    "d['pervaya'].extend(['первая', 'pervaya'])\n",
    "d['abrau'].extend(['aбрау-дюрсо', 'abraudurso', 'дюрсо', 'абрау', 'abrd'])\n",
    "d['aragon'].extend(['арагон', 'aragon'])\n",
    "d['glavnayadoroga'].extend(['главная дорога', 'дорога'])\n",
    "d['gmk'].extend(['гмк', 'норильский никель', 'гмк норникель', 'nornick', 'nornickel', 'норникель', 'gmk', 'gmkn'])\n",
    "d['propertiz'].extend(['о1 пропертиз финанс', 'пропертиз'])\n",
    "d['micex'].extend(['группа', 'ммвб-ртс', 'мосбиржа', 'moex'])\n",
    "d['magisrtal'].extend(['магистраль', 'magisrtal'])\n",
    "d['x5'].extend(['x5 retail group n.v.', 'х5 retail', 'five', 'x5', 'икс 5', 'x 5'])"
   ]
  },
  {
   "cell_type": "code",
   "execution_count": 163,
   "id": "2730dea7",
   "metadata": {},
   "outputs": [],
   "source": [
    "with open('saved_dictionary_name.pkl', 'wb') as f:\n",
    "    pickle.dump(d, f)"
   ]
  },
  {
   "cell_type": "code",
   "execution_count": 164,
   "id": "ed1a398e",
   "metadata": {},
   "outputs": [],
   "source": [
    "with open('saved_dictionary_name.pkl', 'rb') as f:\n",
    "    loaded_dict = pickle.load(f)"
   ]
  },
  {
   "cell_type": "code",
   "execution_count": 166,
   "id": "32329497",
   "metadata": {},
   "outputs": [
    {
     "data": {
      "text/plain": [
       "{'pervaya': ['первая', 'pervaya'],\n",
       " 'abrau': ['aбрау-дюрсо', 'abraudurso', 'дюрсо', 'абрау', 'abrd'],\n",
       " 'aragon': ['арагон', 'aragon'],\n",
       " 'glavnayadoroga': ['главная дорога', 'дорога'],\n",
       " 'gmk': ['гмк',\n",
       "  'норильский никель',\n",
       "  'гмк норникель',\n",
       "  'nornick',\n",
       "  'nornickel',\n",
       "  'норникель',\n",
       "  'gmk',\n",
       "  'gmkn'],\n",
       " 'mail': ['вконтакте', 'мэйл.ру', 'mail.ru', 'vkco', 'mail', 'vk'],\n",
       " 'propertiz': ['о1 пропертиз финанс', 'пропертиз'],\n",
       " 'micex': ['группа', 'ммвб-ртс', 'мосбиржа', 'moex'],\n",
       " 'magisrtal': ['магистраль', 'magisrtal'],\n",
       " 'x5': ['x5 retail group n.v.', 'х5 retail', 'five', 'x5', 'икс 5', 'x 5']}"
      ]
     },
     "execution_count": 166,
     "metadata": {},
     "output_type": "execute_result"
    }
   ],
   "source": [
    "loaded_dict"
   ]
  },
  {
   "cell_type": "code",
   "execution_count": 155,
   "id": "24db935b",
   "metadata": {},
   "outputs": [],
   "source": [
    "for k, v in loaded_id_to_names.items():\n",
    "    if 'главная' in v:\n",
    "        print(v)"
   ]
  },
  {
   "cell_type": "code",
   "execution_count": 106,
   "id": "25d1d746",
   "metadata": {},
   "outputs": [],
   "source": [
    "text = load_data('/home/yagor/Рабочий стол/gagrin/sentiment_ru_stocks/data/test_texts.json')"
   ]
  },
  {
   "cell_type": "code",
   "execution_count": 63,
   "id": "ed3909ea-cfbd-41db-a926-aebb7056dfe8",
   "metadata": {
    "execution": {
     "iopub.execute_input": "2024-06-01T11:22:32.481894Z",
     "iopub.status.busy": "2024-06-01T11:22:32.480967Z",
     "iopub.status.idle": "2024-06-01T11:22:32.491181Z",
     "shell.execute_reply": "2024-06-01T11:22:32.490523Z",
     "shell.execute_reply.started": "2024-06-01T11:22:32.481863Z"
    },
    "tags": []
   },
   "outputs": [],
   "source": [
    "import os\n",
    "\n",
    "api_key = \"AQVNy-2Y671NYKrRd0Ig_MMuKSw5L2DTyohvia6R\"\n",
    "folder_id = \"b1g8mvm4vfdho6fl7ole\""
   ]
  },
  {
   "cell_type": "code",
   "execution_count": 64,
   "id": "6874a5f1-c423-433a-a61c-d482bd67242f",
   "metadata": {
    "execution": {
     "iopub.execute_input": "2024-06-01T11:22:36.290730Z",
     "iopub.status.busy": "2024-06-01T11:22:36.289817Z",
     "iopub.status.idle": "2024-06-01T11:22:36.336396Z",
     "shell.execute_reply": "2024-06-01T11:22:36.335780Z",
     "shell.execute_reply.started": "2024-06-01T11:22:36.290691Z"
    },
    "tags": []
   },
   "outputs": [
    {
     "data": {
      "text/plain": [
       "256"
      ]
     },
     "execution_count": 64,
     "metadata": {},
     "output_type": "execute_result"
    }
   ],
   "source": [
    "from yandex_chain import YandexEmbeddings\n",
    "\n",
    "embeddings = YandexEmbeddings(folder_id=folder_id, api_key=api_key)\n",
    "vec = embeddings.embed_query(\"Hello, world!\")\n",
    "len(vec)"
   ]
  },
  {
   "cell_type": "code",
   "execution_count": null,
   "id": "5acbb69f-5da2-40b4-b3e2-0111a440a4c1",
   "metadata": {
    "execution": {
     "iopub.execute_input": "2024-06-01T11:23:37.554821Z",
     "iopub.status.busy": "2024-06-01T11:23:37.553997Z",
     "iopub.status.idle": "2024-06-01T11:23:42.421461Z",
     "shell.execute_reply": "2024-06-01T11:23:42.420806Z",
     "shell.execute_reply.started": "2024-06-01T11:23:37.554796Z"
    },
    "tags": []
   },
   "outputs": [],
   "source": [
    "# %pip install -q langchain sentence_transformers lancedb unstructured yandex_chain yandexcloud"
   ]
  },
  {
   "cell_type": "code",
   "execution_count": null,
   "id": "5c745581-d2da-436a-9878-b7fbd7d70c08",
   "metadata": {
    "collapsed": true,
    "execution": {
     "iopub.execute_input": "2024-06-01T11:23:49.558585Z",
     "iopub.status.busy": "2024-06-01T11:23:49.557546Z",
     "iopub.status.idle": "2024-06-01T11:23:54.033164Z",
     "shell.execute_reply": "2024-06-01T11:23:54.032494Z",
     "shell.execute_reply.started": "2024-06-01T11:23:49.558540Z"
    },
    "jupyter": {
     "outputs_hidden": true
    },
    "tags": []
   },
   "outputs": [],
   "source": [
    "%pip install langchain_community"
   ]
  },
  {
   "cell_type": "code",
   "execution_count": 17,
   "id": "5969670c-28bd-4937-9ec6-123c82839754",
   "metadata": {
    "execution": {
     "iopub.execute_input": "2024-06-01T11:27:11.842649Z",
     "iopub.status.busy": "2024-06-01T11:27:11.841776Z",
     "iopub.status.idle": "2024-06-01T11:27:12.225319Z",
     "shell.execute_reply": "2024-06-01T11:27:12.224628Z",
     "shell.execute_reply.started": "2024-06-01T11:27:11.842608Z"
    }
   },
   "outputs": [
    {
     "data": {
      "text/plain": [
       "'Привет! У меня всё хорошо, а у вас как дела? \\nЯ искусственный интеллект и мой основной параметр – способность обучаться, я всегда готов к новым знаниям и диалогу.  Если вам понадобится моя помощь — обращайтесь. 😊'"
      ]
     },
     "execution_count": 17,
     "metadata": {},
     "output_type": "execute_result"
    }
   ],
   "source": [
    "from yandex_chain import YandexLLM\n",
    "\n",
    "yagpt = YandexLLM(folder_id=\"b1g8mvm4vfdho6fl7ole\", api_key=\"AQVNy-2Y671NYKrRd0Ig_MMuKSw5L2DTyohvia6R\")\n",
    "\n",
    "\n",
    "yagpt.invoke(\"Привет, как дела?\")"
   ]
  },
  {
   "cell_type": "code",
   "execution_count": null,
   "id": "cf97a9f3-c843-4c6f-8987-df8421eb6707",
   "metadata": {
    "collapsed": true,
    "execution": {
     "iopub.execute_input": "2024-06-01T12:04:55.267664Z",
     "iopub.status.busy": "2024-06-01T12:04:55.266780Z",
     "iopub.status.idle": "2024-06-01T12:04:59.748850Z",
     "shell.execute_reply": "2024-06-01T12:04:59.748075Z",
     "shell.execute_reply.started": "2024-06-01T12:04:55.267626Z"
    },
    "jupyter": {
     "outputs_hidden": true
    },
    "tags": []
   },
   "outputs": [],
   "source": [
    "%pip install langchain"
   ]
  },
  {
   "cell_type": "code",
   "execution_count": 192,
   "id": "202907a4",
   "metadata": {},
   "outputs": [
    {
     "data": {
      "text/plain": [
       "<bound method BaseLoader.alazy_load of <langchain_community.document_loaders.directory.DirectoryLoader object at 0x76472bf70f40>>"
      ]
     },
     "execution_count": 192,
     "metadata": {},
     "output_type": "execute_result"
    }
   ],
   "source": [
    "loader"
   ]
  },
  {
   "cell_type": "code",
   "execution_count": 204,
   "id": "0618041c",
   "metadata": {},
   "outputs": [],
   "source": [
    "import glob\n",
    "source_dir = \"/home/yagor/Рабочий стол/RAG/Hack.Genesis 2024/dataset/datatxt/\"\n",
    "texts_names = glob.glob(f\"{source_dir}*.txt\")"
   ]
  },
  {
   "cell_type": "code",
   "execution_count": 205,
   "id": "707c433f",
   "metadata": {},
   "outputs": [
    {
     "data": {
      "text/plain": [
       "['/home/yagor/Рабочий стол/RAG/Hack.Genesis 2024/dataset/datatxt/РСХБ.txt',\n",
       " '/home/yagor/Рабочий стол/RAG/Hack.Genesis 2024/dataset/datatxt/Норильский никель.txt',\n",
       " '/home/yagor/Рабочий стол/RAG/Hack.Genesis 2024/dataset/datatxt/мэйл.ру 2022 год.txt',\n",
       " '/home/yagor/Рабочий стол/RAG/Hack.Genesis 2024/dataset/datatxt/Output.txt',\n",
       " '/home/yagor/Рабочий стол/RAG/Hack.Genesis 2024/dataset/datatxt/Управляющая компания Первая.txt']"
      ]
     },
     "execution_count": 205,
     "metadata": {},
     "output_type": "execute_result"
    }
   ],
   "source": [
    "texts_names"
   ]
  },
  {
   "cell_type": "code",
   "execution_count": 293,
   "id": "82620312-4df4-4d07-a44b-c7b4652b267e",
   "metadata": {
    "collapsed": true,
    "execution": {
     "iopub.execute_input": "2024-06-01T12:06:06.878674Z",
     "iopub.status.busy": "2024-06-01T12:06:06.877814Z",
     "iopub.status.idle": "2024-06-01T12:06:15.973231Z",
     "shell.execute_reply": "2024-06-01T12:06:15.972607Z",
     "shell.execute_reply.started": "2024-06-01T12:06:06.878643Z"
    },
    "jupyter": {
     "outputs_hidden": true
    },
    "tags": []
   },
   "outputs": [],
   "source": [
    "from langchain.document_loaders import DirectoryLoader\n",
    "from langchain.text_splitter import RecursiveCharacterTextSplitter\n",
    "\n",
    "source_dir = \"/home/yagor/Рабочий стол/RAG/Hack.Genesis 2024/dataset/datatxt\"\n",
    "\n",
    "class DateDirectoryLoader(DirectoryLoader):\n",
    "    def load_file(\n",
    "        self, item, path, docs, pbar\n",
    "    ) -> None:\n",
    "        prev_len = len(docs)\n",
    "        super().load_file(item, path, docs, pbar)\n",
    "        if len(docs) > prev_len:\n",
    "            # if any file was loaded by super().load_file == no error loading\n",
    "            stat = os.stat(str(item))\n",
    "            # creation_date = datetime.fromtimestamp(stat.st_ctime).isoformat()\n",
    "            # modification_date = datetime.fromtimestamp(stat.st_mtime).isoformat()\n",
    "            for doc in docs[prev_len:]:\n",
    "                # doc.metadata['creation_date'] = creation_date\n",
    "                doc.metadata['filename'] = path.split('/')[-1]\n",
    "\n",
    "# Загрузка документов из указанной директории\n",
    "loader = DateDirectoryLoader(\n",
    "    source_dir, glob=\"*.txt\",\n",
    "\n",
    "    show_progress=True, recursive=True\n",
    ")\n",
    "\n",
    "# Создание текстового сплиттера с рекурсивным делением символов\n",
    "splitter = RecursiveCharacterTextSplitter(separators=[\"\\n\\n\",\"\\n\",\" \",\"\"],\n",
    "    chunk_size=1000, chunk_overlap=300\n",
    ")\n",
    "# texts = []\n",
    "# metadata = []\n",
    "# for i in texts_names:\n",
    "#     with open(i, 'r') as t:\n",
    "#         texts.append(t.read())\n",
    "#         metadata.append(i.split('/')[-1])\n"
   ]
  },
  {
   "cell_type": "code",
   "execution_count": 294,
   "id": "2c006e2c",
   "metadata": {},
   "outputs": [
    {
     "name": "stderr",
     "output_type": "stream",
     "text": [
      "100%|██████████| 5/5 [00:01<00:00,  2.68it/s]\n"
     ]
    }
   ],
   "source": [
    "# Создание документов из загруженных файлов\n",
    "documents = loader.load()"
   ]
  },
  {
   "cell_type": "code",
   "execution_count": 295,
   "id": "a49d9337",
   "metadata": {},
   "outputs": [
    {
     "data": {
      "text/plain": [
       "'/home/yagor/Рабочий стол/RAG/Hack.Genesis 2024/dataset/datatxt/РСХБ.txt'"
      ]
     },
     "execution_count": 295,
     "metadata": {},
     "output_type": "execute_result"
    }
   ],
   "source": [
    "documents[0].metadata['source']"
   ]
  },
  {
   "cell_type": "code",
   "execution_count": 253,
   "id": "97462dfc",
   "metadata": {},
   "outputs": [
    {
     "data": {
      "text/plain": [
       "5"
      ]
     },
     "execution_count": 253,
     "metadata": {},
     "output_type": "execute_result"
    }
   ],
   "source": [
    "len([doc.page_content for doc in documents])"
   ]
  },
  {
   "cell_type": "code",
   "execution_count": 296,
   "id": "91e591c7",
   "metadata": {},
   "outputs": [
    {
     "name": "stdout",
     "output_type": "stream",
     "text": [
      "page_content='Отчетность некредитной финансовой организации**\\n\\n**Код территории по ОКАТО**: 45286575000 **Код некредитной финансовой организации по ОКПО**: 11396254 **Основной государственный регистрационный номер**: 1127746635950\\n\\n---\\n\\n### БУХГАЛТЕРСКИЙ БАЛАНС НЕКРЕДИТНОЙ ФИНАНСОВОЙ ОРГАНИЗАЦИИ На \"31\" марта 2024 г. Общество с ограниченной ответственностью \"РСХБ УПРАВЛЕНИЕ АКТИВАМИ\" / ООО \"РСХБ УПРАВЛЕНИЕ АКТИВАМИ\" Почтовый адрес: 123112, Москва, наб Пресненская, д. 10, стр. 2 Код формы по ОКУД: 0420002 Годовая (квартальная) (тыс. руб.)\\n\\n#### Раздел I. Активы' metadata={'source': '/home/yagor/Рабочий стол/RAG/Hack.Genesis 2024/dataset/datatxt/РСХБ.txt'}\n",
      "\n",
      "\n",
      "\n",
      "page_content='#### Раздел I. Активы\\n\\n| Наименование показателя | На 31 марта 2024 г. | На 31 декабря 2023 г. | |--------------------------|---------------------|-----------------------| | Денежные средства | 17 070 | 11 556 | | Финансовые активы, оцениваемые по справедливой стоимости через прибыль или убыток, в том числе: | 640 583 | 626 915 | | Финансовые активы, оцениваемые по амортизированной стоимости, в том числе: | 792 576 | 686 640 | | Средства в кредитных организациях и банках-нерезидентах | 429 140 | 349 300 | | Займы выданные и прочие размещенные средства | 363 189 | 337 098 | | Дебиторская задолженность | 52 188 | 53 835 | | Нематериальные активы и капитальные вложения в них | 59 143 | 63 687 | | Основные средства и капитальные вложения в них | 18 589 | 7 993 | | Требования по текущему налогу на прибыль | 31 220 | 23 170 | | Отложенные налоговые активы | 1 611 369 | 1 483 694 | | Прочие активы | 20 247 | 9 898 | | **Итого активов** | 1 611 369 | 1 483 694 |' metadata={'source': '/home/yagor/Рабочий стол/RAG/Hack.Genesis 2024/dataset/datatxt/РСХБ.txt'}\n",
      "\n",
      "\n",
      "\n",
      "page_content='#### Раздел II. Обязательства\\n\\n| Наименование показателя | На 31 марта 2024 г. | На 31 декабря 2023 г. | |--------------------------|---------------------|-----------------------| | Финансовые обязательства, оцениваемые по амортизированной стоимости, в том числе: | 151 834 | 223 864 | | Кредиты, займы и прочие привлеченные средства | 21 476 | 24 098 | | Кредиторская задолженность | 130 358 | 199 766 | | Обязательство по текущему налогу на прибыль | 31 053 | 579 | | Прочие обязательства | 93 095 | 120 553 | | **Итого обязательств** | 275 982 | 344 997 |\\n\\n#### Раздел III. Капитал\\n\\n| Наименование показателя | На 31 марта 2024 г. | На 31 декабря 2023 г. | |--------------------------|---------------------|-----------------------| | Уставный капитал | 115 000 | 115 000 | | Нераспределенная прибыль (непокрытый убыток) | 1 220 387 | 1 023 697 | | **Итого капитала** | 1 335 387 | 1 138 697 | | **Итого капитала и обязательств** | 1 611 369 | 1 483 694 |' metadata={'source': '/home/yagor/Рабочий стол/RAG/Hack.Genesis 2024/dataset/datatxt/РСХБ.txt'}\n",
      "\n",
      "\n",
      "\n",
      "page_content='ВРИО Генерального директора Дата подписи: 25 апреля 2024 г. Галимов С.Ф.\\n\\n---\\n\\n### ОТЧЕТ О ФИНАНСОВЫХ РЕЗУЛЬТАТАХ НЕКРЕДИТНОЙ ФИНАНСОВОЙ ОРГАНИЗАЦИИ За Январь - Март 2024 г. Общество с ограниченной ответственностью \"РСХБ УПРАВЛЕНИЕ АКТИВАМИ\" / ООО \"РСХБ УПРАВЛЕНИЕ АКТИВАМИ\" Почтовый адрес: 123112, Москва, наб Пресненская, д. 10, стр. 2 Код формы по ОКУД: 0420003 Годовая (квартальная) (тыс. руб.)\\n\\n#### Раздел I. Прибыли и убытки' metadata={'source': '/home/yagor/Рабочий стол/RAG/Hack.Genesis 2024/dataset/datatxt/РСХБ.txt'}\n",
      "\n",
      "\n",
      "\n",
      "page_content='| Наименование показателя | За Январь-Март 2024 г. | За Январь-Март 2023 г. | |--------------------------|-----------------------|-----------------------| | Торговые и инвестиционные доходы, в том числе: | 35 903 | 17 776 | | Доходы за вычетом расходов (расходы за вычетом доходов) от операций с финансовыми активами, классифицируемыми как оцениваемые по справедливой стоимости через прибыль или убыток по усмотрению некредитной финансовой организации | 1 243 | (4 624) | | Процентные доходы | 34 849 | 22 751 | | Доходы за вычетом расходов (расходы за вычетом доходов) по восстановлению (созданию) оценочных резервов под ожидаемые кредитные убытки по финансовым активам, оцениваемым по амортизированной стоимости | (189) | (351) | | Выручка от оказания услуг и комиссионные доходы | 824 127 | 651 119 | | Расходы на персонал | (185 210) | (153 315) | | Прямые операционные расходы | (135 627) | (111 004) | | Процентные расходы | (594) | (528) | | Общие и административные расходы | (240 431) |' metadata={'source': '/home/yagor/Рабочий стол/RAG/Hack.Genesis 2024/dataset/datatxt/РСХБ.txt'}\n",
      "\n",
      "\n",
      "\n"
     ]
    }
   ],
   "source": [
    "# Создание документов из загруженных файлов\n",
    "from langchain.docstore.document import Document\n",
    "fragments = splitter.split_documents(documents)#[doc.metadata['source'] for doc in documents]) #['РСХБ', 'никель', 'Мэйл.Ру', 'никель']\n",
    "# fragments = splitter.create_documents([Document(page_content=doc.page_content, metadata=doc.metadata['source']) for doc in documents])\n",
    "# Пример вывода первых 5 фрагментов\n",
    "for fragment in fragments[:5]:\n",
    "    print(fragment)\n",
    "    print()\n",
    "    print()\n",
    "    print()"
   ]
  },
  {
   "cell_type": "code",
   "execution_count": 297,
   "id": "843c4a47",
   "metadata": {},
   "outputs": [
    {
     "data": {
      "text/plain": [
       "5"
      ]
     },
     "execution_count": 297,
     "metadata": {},
     "output_type": "execute_result"
    }
   ],
   "source": [
    "len(documents)"
   ]
  },
  {
   "cell_type": "code",
   "execution_count": 298,
   "id": "ee5839ad",
   "metadata": {},
   "outputs": [
    {
     "data": {
      "text/plain": [
       "5"
      ]
     },
     "execution_count": 298,
     "metadata": {},
     "output_type": "execute_result"
    }
   ],
   "source": [
    "len(documents)"
   ]
  },
  {
   "cell_type": "code",
   "execution_count": 299,
   "id": "886a41e7",
   "metadata": {},
   "outputs": [
    {
     "data": {
      "text/plain": [
       "5"
      ]
     },
     "execution_count": 299,
     "metadata": {},
     "output_type": "execute_result"
    }
   ],
   "source": [
    "len(documents)"
   ]
  },
  {
   "cell_type": "code",
   "execution_count": 300,
   "id": "8b3ae27d-cac7-494e-98cc-db6a4216275a",
   "metadata": {
    "collapsed": true,
    "execution": {
     "iopub.execute_input": "2024-06-01T12:22:31.313586Z",
     "iopub.status.busy": "2024-06-01T12:22:31.312732Z",
     "iopub.status.idle": "2024-06-01T12:22:31.383792Z",
     "shell.execute_reply": "2024-06-01T12:22:31.383020Z",
     "shell.execute_reply.started": "2024-06-01T12:22:31.313556Z"
    },
    "jupyter": {
     "outputs_hidden": true
    },
    "tags": []
   },
   "outputs": [],
   "source": [
    "from yandex_chain import YandexEmbeddings\n",
    "\n",
    "embeddings = YandexEmbeddings(folder_id=folder_id, api_key=api_key)\n",
    "embeddings.embed_document(fragments[0].page_content);"
   ]
  },
  {
   "cell_type": "code",
   "execution_count": 301,
   "id": "194d45bc",
   "metadata": {},
   "outputs": [
    {
     "data": {
      "text/plain": [
       "Document(page_content='Отчетность некредитной финансовой организации**\\n\\n**Код территории по ОКАТО**: 45286575000 **Код некредитной финансовой организации по ОКПО**: 11396254 **Основной государственный регистрационный номер**: 1127746635950\\n\\n---\\n\\n### БУХГАЛТЕРСКИЙ БАЛАНС НЕКРЕДИТНОЙ ФИНАНСОВОЙ ОРГАНИЗАЦИИ На \"31\" марта 2024 г. Общество с ограниченной ответственностью \"РСХБ УПРАВЛЕНИЕ АКТИВАМИ\" / ООО \"РСХБ УПРАВЛЕНИЕ АКТИВАМИ\" Почтовый адрес: 123112, Москва, наб Пресненская, д. 10, стр. 2 Код формы по ОКУД: 0420002 Годовая (квартальная) (тыс. руб.)\\n\\n#### Раздел I. Активы', metadata={'source': '/home/yagor/Рабочий стол/RAG/Hack.Genesis 2024/dataset/datatxt/РСХБ.txt'})"
      ]
     },
     "execution_count": 301,
     "metadata": {},
     "output_type": "execute_result"
    }
   ],
   "source": [
    "fragments[0]"
   ]
  },
  {
   "cell_type": "code",
   "execution_count": 270,
   "id": "0199e5ff-9884-4a55-80fb-4b81a460561e",
   "metadata": {
    "execution": {
     "iopub.execute_input": "2024-06-01T12:59:34.987913Z",
     "iopub.status.busy": "2024-06-01T12:59:34.987041Z",
     "iopub.status.idle": "2024-06-01T12:59:34.998436Z",
     "shell.execute_reply": "2024-06-01T12:59:34.997835Z",
     "shell.execute_reply.started": "2024-06-01T12:59:34.987883Z"
    },
    "tags": []
   },
   "outputs": [],
   "source": [
    "page_content = []\n",
    "metadatas = []\n",
    "for i in fragments:\n",
    "    page_content.append(i.page_content)\n",
    "    metadatas.append(i.metadata)"
   ]
  },
  {
   "cell_type": "code",
   "execution_count": 271,
   "id": "f25658e9-67bd-4594-9a37-1f1f39f03217",
   "metadata": {
    "execution": {
     "iopub.execute_input": "2024-06-01T13:39:21.194408Z",
     "iopub.status.busy": "2024-06-01T13:39:21.193309Z",
     "iopub.status.idle": "2024-06-01T13:39:21.203730Z",
     "shell.execute_reply": "2024-06-01T13:39:21.203148Z",
     "shell.execute_reply.started": "2024-06-01T13:39:21.194367Z"
    },
    "tags": []
   },
   "outputs": [
    {
     "data": {
      "text/plain": [
       "393"
      ]
     },
     "execution_count": 271,
     "metadata": {},
     "output_type": "execute_result"
    }
   ],
   "source": [
    "len(page_content)"
   ]
  },
  {
   "cell_type": "code",
   "execution_count": 272,
   "id": "abdd469f",
   "metadata": {},
   "outputs": [
    {
     "data": {
      "text/plain": [
       "393"
      ]
     },
     "execution_count": 272,
     "metadata": {},
     "output_type": "execute_result"
    }
   ],
   "source": [
    "len(metadatas)"
   ]
  },
  {
   "cell_type": "code",
   "execution_count": 273,
   "id": "e5e039db-954a-4be4-8059-8d2b4d2853d6",
   "metadata": {
    "execution": {
     "iopub.execute_input": "2024-06-01T13:29:51.529200Z",
     "iopub.status.busy": "2024-06-01T13:29:51.528332Z",
     "iopub.status.idle": "2024-06-01T13:29:51.556031Z",
     "shell.execute_reply": "2024-06-01T13:29:51.555355Z",
     "shell.execute_reply.started": "2024-06-01T13:29:51.529163Z"
    },
    "tags": []
   },
   "outputs": [],
   "source": [
    "from yandex_chain import YandexLLM, YandexEmbeddings\n",
    "from langchain.vectorstores import FAISS\n",
    "from langchain.prompts import ChatPromptTemplate\n",
    "from langchain.schema.output_parser import StrOutputParser\n",
    "from langchain.schema.runnable import RunnablePassthrough"
   ]
  },
  {
   "cell_type": "code",
   "execution_count": 274,
   "id": "fb328d7e-ba53-44af-b01c-aaabe96b5e4f",
   "metadata": {
    "execution": {
     "iopub.execute_input": "2024-06-01T13:34:06.870821Z",
     "iopub.status.busy": "2024-06-01T13:34:06.869838Z",
     "iopub.status.idle": "2024-06-01T13:34:06.882132Z",
     "shell.execute_reply": "2024-06-01T13:34:06.881474Z",
     "shell.execute_reply.started": "2024-06-01T13:34:06.870787Z"
    }
   },
   "outputs": [],
   "source": [
    "embeddings = YandexEmbeddings(folder_id=folder_id, api_key=api_key)"
   ]
  },
  {
   "cell_type": "code",
   "execution_count": 265,
   "id": "c96a3154",
   "metadata": {},
   "outputs": [],
   "source": [
    "# pip install faiss-gpu"
   ]
  },
  {
   "cell_type": "code",
   "execution_count": null,
   "id": "fe7352fd",
   "metadata": {},
   "outputs": [],
   "source": []
  },
  {
   "cell_type": "code",
   "execution_count": 275,
   "id": "8fd0bc85-9394-44be-bc64-6bf3ac2449f7",
   "metadata": {
    "execution": {
     "iopub.execute_input": "2024-06-01T13:41:22.814796Z",
     "iopub.status.busy": "2024-06-01T13:41:22.813857Z"
    },
    "tags": []
   },
   "outputs": [],
   "source": [
    "vectorstore = FAISS.from_texts(page_content, embedding=embeddings, metadatas=metadatas)"
   ]
  },
  {
   "cell_type": "code",
   "execution_count": 276,
   "id": "6edc03a9",
   "metadata": {},
   "outputs": [],
   "source": [
    "vectorstore.save_local(\"faiss_index\")"
   ]
  },
  {
   "cell_type": "code",
   "execution_count": 277,
   "id": "3cab705c",
   "metadata": {},
   "outputs": [],
   "source": [
    "new_db = FAISS.load_local(\"faiss_index\", embeddings,allow_dangerous_deserialization=True)"
   ]
  },
  {
   "cell_type": "code",
   "execution_count": 335,
   "id": "4b7d4978-f5c7-417a-8e8f-c41ab315d798",
   "metadata": {
    "execution": {
     "iopub.execute_input": "2024-06-01T13:40:22.782034Z",
     "iopub.status.busy": "2024-06-01T13:40:22.781219Z",
     "iopub.status.idle": "2024-06-01T13:40:22.791125Z",
     "shell.execute_reply": "2024-06-01T13:40:22.790508Z",
     "shell.execute_reply.started": "2024-06-01T13:40:22.782005Z"
    },
    "tags": []
   },
   "outputs": [],
   "source": [
    "retriever = new_db.as_retriever(search_type=\"similarity\", \n",
    "                                 search_kwargs={'k':2, 'fetch_k':6, 'filter':lambda d: 'РСХБ' in d[\"source\"]})"
   ]
  },
  {
   "cell_type": "code",
   "execution_count": 317,
   "id": "5fc4dcde",
   "metadata": {},
   "outputs": [],
   "source": [
    "results = new_db.similarity_search('Активы денежных средств РСХБ На 31 марта 2024 г.?', k=2, fetch_k=6, filter=lambda d: 'РСХБ' in d[\"source\"])"
   ]
  },
  {
   "cell_type": "code",
   "execution_count": 336,
   "id": "96833b7e",
   "metadata": {},
   "outputs": [
    {
     "data": {
      "text/plain": [
       "[Document(page_content='1 222 551 | 1 222 551 | | Остаток на 31 декабря 2023 г. | 1 138 697 | 1 138 697 | | Остаток на 31 декабря 2023 г., пересмотренный | 1 335 387 | 1 335 387 | | **Остаток на 31 марта 2024 г., в том числе:** | 115 000 | 115 000 | | Капитал, относящийся к активам (выбывающим группам), классифицированным как предназначенные для продажи | - | - | | **Итого** | 1 220 387 | 1 335 387 |\\n\\nВРИО Генерального директора Дата подписи: 25 апреля 2024 г. Галимов С.Ф.\\n\\n---\\n\\n### ОТЧЕТ О ПОТОКАХ ДЕНЕЖНЫХ СРЕДСТВ НЕКРЕДИТНОЙ ФИНАНСОВОЙ ОРГАНИЗАЦИИ За Январь - Март 2024 г. Общество с ограниченной ответственностью \"РСХБ УПРАВЛЕНИЕ АКТИВАМИ\" / ООО \"РСХБ УПРАВЛЕНИЕ АКТИВАМИ\" Почтовый адрес: 123112, Москва, наб Пресненская, д. 10, стр. 2 Код формы по ОКУД: 0420005 Годовая (квартальная) (тыс. руб.)\\n\\n#### Раздел I. Денежные потоки от операционной деятельности', metadata={'source': '/home/yagor/Рабочий стол/RAG/Hack.Genesis 2024/dataset/datatxt/РСХБ.txt'}),\n",
       " Document(page_content='#### Раздел I. Активы\\n\\n| Наименование показателя | На 31 марта 2024 г. | На 31 декабря 2023 г. | |--------------------------|---------------------|-----------------------| | Денежные средства | 17 070 | 11 556 | | Финансовые активы, оцениваемые по справедливой стоимости через прибыль или убыток, в том числе: | 640 583 | 626 915 | | Финансовые активы, оцениваемые по амортизированной стоимости, в том числе: | 792 576 | 686 640 | | Средства в кредитных организациях и банках-нерезидентах | 429 140 | 349 300 | | Займы выданные и прочие размещенные средства | 363 189 | 337 098 | | Дебиторская задолженность | 52 188 | 53 835 | | Нематериальные активы и капитальные вложения в них | 59 143 | 63 687 | | Основные средства и капитальные вложения в них | 18 589 | 7 993 | | Требования по текущему налогу на прибыль | 31 220 | 23 170 | | Отложенные налоговые активы | 1 611 369 | 1 483 694 | | Прочие активы | 20 247 | 9 898 | | **Итого активов** | 1 611 369 | 1 483 694 |', metadata={'source': '/home/yagor/Рабочий стол/RAG/Hack.Genesis 2024/dataset/datatxt/РСХБ.txt'})]"
      ]
     },
     "execution_count": 336,
     "metadata": {},
     "output_type": "execute_result"
    }
   ],
   "source": [
    "results"
   ]
  },
  {
   "cell_type": "code",
   "execution_count": 337,
   "id": "fb6ab034-7ba7-41ef-9ed8-77bb13ea3ec5",
   "metadata": {
    "collapsed": true,
    "execution": {
     "iopub.execute_input": "2024-06-01T13:40:24.220245Z",
     "iopub.status.busy": "2024-06-01T13:40:24.219249Z",
     "iopub.status.idle": "2024-06-01T13:40:24.265092Z",
     "shell.execute_reply": "2024-06-01T13:40:24.264355Z",
     "shell.execute_reply.started": "2024-06-01T13:40:24.220209Z"
    },
    "jupyter": {
     "outputs_hidden": true
    },
    "tags": []
   },
   "outputs": [
    {
     "name": "stdout",
     "output_type": "stream",
     "text": [
      "+ Query: Какие активы денежных средств РСХБ На 31 декабря 2023 г. указаны в таблице или тексте?\n",
      " + Getting relevant documents\n",
      "page_content='#### Раздел I. Активы\\n\\n| Наименование показателя | На 31 марта 2024 г. | На 31 декабря 2023 г. | |--------------------------|---------------------|-----------------------| | Денежные средства | 17 070 | 11 556 | | Финансовые активы, оцениваемые по справедливой стоимости через прибыль или убыток, в том числе: | 640 583 | 626 915 | | Финансовые активы, оцениваемые по амортизированной стоимости, в том числе: | 792 576 | 686 640 | | Средства в кредитных организациях и банках-нерезидентах | 429 140 | 349 300 | | Займы выданные и прочие размещенные средства | 363 189 | 337 098 | | Дебиторская задолженность | 52 188 | 53 835 | | Нематериальные активы и капитальные вложения в них | 59 143 | 63 687 | | Основные средства и капитальные вложения в них | 18 589 | 7 993 | | Требования по текущему налогу на прибыль | 31 220 | 23 170 | | Отложенные налоговые активы | 1 611 369 | 1 483 694 | | Прочие активы | 20 247 | 9 898 | | **Итого активов** | 1 611 369 | 1 483 694 |' metadata={'source': '/home/yagor/Рабочий стол/RAG/Hack.Genesis 2024/dataset/datatxt/РСХБ.txt'}\n",
      "------\n",
      "\n",
      "page_content='1 222 551 | 1 222 551 | | Остаток на 31 декабря 2023 г. | 1 138 697 | 1 138 697 | | Остаток на 31 декабря 2023 г., пересмотренный | 1 335 387 | 1 335 387 | | **Остаток на 31 марта 2024 г., в том числе:** | 115 000 | 115 000 | | Капитал, относящийся к активам (выбывающим группам), классифицированным как предназначенные для продажи | - | - | | **Итого** | 1 220 387 | 1 335 387 |\\n\\nВРИО Генерального директора Дата подписи: 25 апреля 2024 г. Галимов С.Ф.\\n\\n---\\n\\n### ОТЧЕТ О ПОТОКАХ ДЕНЕЖНЫХ СРЕДСТВ НЕКРЕДИТНОЙ ФИНАНСОВОЙ ОРГАНИЗАЦИИ За Январь - Март 2024 г. Общество с ограниченной ответственностью \"РСХБ УПРАВЛЕНИЕ АКТИВАМИ\" / ООО \"РСХБ УПРАВЛЕНИЕ АКТИВАМИ\" Почтовый адрес: 123112, Москва, наб Пресненская, д. 10, стр. 2 Код формы по ОКУД: 0420005 Годовая (квартальная) (тыс. руб.)\\n\\n#### Раздел I. Денежные потоки от операционной деятельности' metadata={'source': '/home/yagor/Рабочий стол/RAG/Hack.Genesis 2024/dataset/datatxt/РСХБ.txt'}\n",
      "------\n",
      "\n"
     ]
    }
   ],
   "source": [
    "query = 'Какие активы денежных средств РСХБ На 31 декабря 2023 г. указаны в таблице или тексте?' #\"Как называется компания описанная в документе?\"\n",
    "\n",
    "print(f\"+ Query: {query}\")\n",
    "\n",
    "print(\" + Getting relevant documents\")\n",
    "res = retriever.get_relevant_documents(query)\n",
    "\n",
    "for x in res:\n",
    "    print(f\"{x}\\n------\\n\")"
   ]
  },
  {
   "cell_type": "code",
   "execution_count": 338,
   "id": "33665b8a-153e-40a5-9bed-7260d98995a9",
   "metadata": {
    "execution": {
     "iopub.execute_input": "2024-06-01T13:40:32.115254Z",
     "iopub.status.busy": "2024-06-01T13:40:32.114415Z",
     "iopub.status.idle": "2024-06-01T13:40:32.980788Z",
     "shell.execute_reply": "2024-06-01T13:40:32.980158Z",
     "shell.execute_reply.started": "2024-06-01T13:40:32.115227Z"
    },
    "tags": []
   },
   "outputs": [
    {
     "name": "stdout",
     "output_type": "stream",
     "text": [
      " + Running LLM Chain\n",
      " + Ответ: В таблице не указана информация об активах денежных средств **на 31 декабря 2023 года**, а в тексте содержится информация о денежных средствах в размере **17 070 рублей** на эту же дату. Также информация о суммах денежных средств на начало (11 556 тыс. руб.) и конец (17 070 тыс. руб.) отчётного периода (31.03.2024) указана в отчёте о потоках денежных средств некредитной финансовой организации.\n"
     ]
    }
   ],
   "source": [
    "template = \"\"\"представь что ты квалифицированный финансовый аналитик. Ответь на вопрос ориентируясь только на контекст:\n",
    "{context}\n",
    "\n",
    "Вопрос: {question}\n",
    "\"\"\"\n",
    "prompt = ChatPromptTemplate.from_template(template)\n",
    "model = YandexLLM(folder_id=folder_id, api_key=api_key)\n",
    "\n",
    "chain = (\n",
    "    {\"context\": retriever, \"question\": RunnablePassthrough()} \n",
    "    | prompt \n",
    "    | model \n",
    "    | StrOutputParser()\n",
    ")\n",
    "\n",
    "print(\" + Running LLM Chain\")\n",
    "\n",
    "res = chain.invoke(query)\n",
    "\n",
    "print(f\" + Ответ: {res}\")"
   ]
  },
  {
   "cell_type": "code",
   "execution_count": null,
   "id": "a3cbabd4",
   "metadata": {},
   "outputs": [],
   "source": [
    "!pip install gradio"
   ]
  },
  {
   "cell_type": "code",
   "execution_count": 361,
   "id": "75c97725",
   "metadata": {},
   "outputs": [],
   "source": [
    "company = []\n",
    "for k, v in loaded_dict.items():\n",
    "    for i in v:\n",
    "        if i in query.lower():\n",
    "            company.append(i)\n",
    "\n",
    "dop_text =f'смотри отчет {(\", \".join[loaded_dict[company[0]]])}' if len(company) >0 else ''   "
   ]
  },
  {
   "cell_type": "code",
   "execution_count": 362,
   "id": "ce1be639",
   "metadata": {},
   "outputs": [
    {
     "data": {
      "text/plain": [
       "''"
      ]
     },
     "execution_count": 362,
     "metadata": {},
     "output_type": "execute_result"
    }
   ],
   "source": [
    "dop_text"
   ]
  },
  {
   "cell_type": "code",
   "execution_count": 368,
   "id": "bde10cfd",
   "metadata": {},
   "outputs": [
    {
     "name": "stdout",
     "output_type": "stream",
     "text": [
      "Running on local URL:  http://127.0.0.1:7875\n",
      "\n",
      "To create a public link, set `share=True` in `launch()`.\n"
     ]
    },
    {
     "data": {
      "text/html": [
       "<div><iframe src=\"http://127.0.0.1:7875/\" width=\"100%\" height=\"500\" allow=\"autoplay; camera; microphone; clipboard-read; clipboard-write;\" frameborder=\"0\" allowfullscreen></iframe></div>"
      ],
      "text/plain": [
       "<IPython.core.display.HTML object>"
      ]
     },
     "metadata": {},
     "output_type": "display_data"
    },
    {
     "data": {
      "text/plain": []
     },
     "execution_count": 368,
     "metadata": {},
     "output_type": "execute_result"
    },
    {
     "name": "stdout",
     "output_type": "stream",
     "text": [
      "+ Query: Какие активы денежных средств РСХБ На 31 декабря 2023 г. указаны в таблице или тексте?\n",
      " + Getting relevant documents\n",
      " + Running LLM Chain\n",
      " + Ответ: Основываясь на предоставленной информации, можно сделать вывод, что в таблице и тексте указаны следующие **активы денежных средств РСХБ на 31 декабря 2023 года**:\n",
      "\n",
      "* Денежные средства — 11 556 тыс. руб.\n",
      "* Средства в кредитных организациях и банках — нерезидентах — 349 300 тыс. руб. \n",
      "* Займы выданные — 337 098 тыс. руб., а также прочие кредитные средства —  363 189 тыс. руб.;\n",
      "* Требования по текущему налогу — 23 170 тыс. рублей;\n",
      "* Отложенные налоговые обязательства — 1 483 694 тыс. руб;\n",
      "* Прочие активные позиции — 9 898 тыс.руб.\n",
      "\n",
      "Итогосумма всех активов денежных средств составляет 1.483.694 тысяч рублей, включая остатки на 1 января и 1 февраля. Остаток пересмотрели до 1.335.387 тыс.руб., но это не отображено на таблице.\n",
      "Суммарные активы компании на 31.03.2022 г. составляют 1.220.380 руб. (Без учета пересмотра). После из сумма была пересмотрена на сумму в 195 тыс.р. и составила на балансе **1 335 387** руб, а капитал классифицирован как предназначенный для продажи.\n",
      "Основываясь на предоставленной информации, можно сделать вывод, что в таблице и тексте указаны следующие **активы денежных средств РСХБ на 31 декабря 2023 года**:\n",
      "\n",
      "* Денежные средства — 11 556 тыс. руб.\n",
      "* Средства в кредитных организациях и банках — нерезидентах — 349 300 тыс. руб. \n",
      "* Займы выданные — 337 098 тыс. руб., а также прочие кредитные средства —  363 189 тыс. руб.;\n",
      "* Требования по текущему налогу — 23 170 тыс. рублей;\n",
      "* Отложенные налоговые обязательства — 1 483 694 тыс. руб;\n",
      "* Прочие активные позиции — 9 898 тыс.руб.\n",
      "\n",
      "Итогосумма всех активов денежных средств составляет 1.483.694 тысяч рублей, включая остатки на 1 января и 1 февраля. Остаток пересмотрели до 1.335.387 тыс.руб., но это не отображено на таблице.\n",
      "Суммарные активы компании на 31.03.2022 г. составляют 1.220.380 руб. (Без учета пересмотра). После из сумма была пересмотрена на сумму в 195 тыс.р. и составила на балансе **1 335 387** руб, а капитал классифицирован как предназначенный для продажи.\n",
      "+ Query: Сколько общие и административные расходы у этой компании?\n",
      " + Getting relevant documents\n",
      " + Running LLM Chain\n",
      " + Ответ: Согласно приведённым данным, общие и административные **расходы** у компании за 2022 год **составили (240 431)** рублей.\n",
      "\n",
      "Также представлена информация о расходах аналогичных видов другой компании за аналогичный период в **(269 186)** рублей, этот показатель указан в документе со страницы с метаданными  `/home/yagor/Рабочий стол/RAG/.../dataset/daten.txt`.\n",
      "Согласно приведённым данным, общие и административные **расходы** у компании за 2022 год **составили (240 431)** рублей.\n",
      "\n",
      "Также представлена информация о расходах аналогичных видов другой компании за аналогичный период в **(269 186)** рублей, этот показатель указан в документе со страницы с метаданными  `/home/yagor/Рабочий стол/RAG/.../dataset/daten.txt`.\n"
     ]
    }
   ],
   "source": [
    "import gradio as gr\n",
    "import random\n",
    "import time\n",
    "last_company = ''\n",
    "with gr.Blocks() as demo:\n",
    "    chatbot = gr.Chatbot()\n",
    "    msg = gr.Textbox()\n",
    "    button = gr.Button(\"Отправить\")\n",
    "    clear = gr.ClearButton([msg, chatbot])\n",
    "    def respond(input, history=None):\n",
    "        company = []\n",
    "        for k, v in loaded_dict.items():\n",
    "            for i in v:\n",
    "                if i in input.lower():\n",
    "                    company.append(i)\n",
    "        last_company_one =f'{company[0]}' if len(company) >0 else last_company\n",
    "        dop_text =f'смотри отчет {(\", \".join[loaded_dict[last_company_one]][:2])}' if len(company) >0 else last_company_one  \n",
    "        retriever = new_db.as_retriever(search_type=\"similarity\", \n",
    "                                    search_kwargs={'k':2, 'fetch_k':6, 'filter':None})#lambda d: 'РСХБ' in d[\"source\"]\n",
    "        \n",
    "        query = dop_text + input #\"Как называется компания описанная в документе?\"\n",
    "\n",
    "        print(f\"+ Query: {query}\")\n",
    "\n",
    "        print(\" + Getting relevant documents\")\n",
    "        # res = retriever.get_relevant_documents(query)\n",
    "\n",
    "        template = \"\"\"представь что ты квалифицированный финансовый аналитик. Ответь на вопрос ориентируясь только на контекст:\n",
    "        {context}\n",
    "\n",
    "        Вопрос: {question}\n",
    "        \"\"\"\n",
    "        prompt = ChatPromptTemplate.from_template(template)\n",
    "        model = YandexLLM(folder_id=folder_id, api_key=api_key)\n",
    "\n",
    "        chain = (\n",
    "            {\"context\": retriever, \"question\": RunnablePassthrough()} \n",
    "            | prompt \n",
    "            | model \n",
    "            | StrOutputParser()\n",
    "        )\n",
    "\n",
    "        print(\" + Running LLM Chain\")\n",
    "\n",
    "        res = chain.invoke(query)\n",
    "\n",
    "        print(f\" + Ответ: {res}\")\n",
    "        if history is None:\n",
    "            history = []\n",
    "        print(res)\n",
    "        history.append((input, res))\n",
    "        return '', history\n",
    "\n",
    "    # def respond(message, chat_history):\n",
    "    #     bot_message = random.choice([\"How are you?\", \"I love you\", \"I'm very hungry\"])\n",
    "    #     chat_history.append((message, bot_message))\n",
    "    #     return \"\", chat_history\n",
    "    \n",
    "    msg.submit(respond, [msg, chatbot], [msg, chatbot])\n",
    "    button.click(respond, [msg, chatbot], [msg, chatbot])\n",
    "demo.launch()"
   ]
  }
 ],
 "metadata": {
  "kernelspec": {
   "display_name": "torch",
   "language": "python",
   "name": "torch"
  },
  "language_info": {
   "codemirror_mode": {
    "name": "ipython",
    "version": 3
   },
   "file_extension": ".py",
   "mimetype": "text/x-python",
   "name": "python",
   "nbconvert_exporter": "python",
   "pygments_lexer": "ipython3",
   "version": "3.9.13"
  },
  "vscode": {
   "interpreter": {
    "hash": "13817f8bfaf6244a5bdc7f32f3f11f9be8f2d1244bd341f6811bf2e18438b9c9"
   }
  }
 },
 "nbformat": 4,
 "nbformat_minor": 5
}
